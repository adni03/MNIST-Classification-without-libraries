{
  "nbformat": 4,
  "nbformat_minor": 0,
  "metadata": {
    "colab": {
      "name": "Handwritten Digits Classification",
      "provenance": [],
      "collapsed_sections": []
    },
    "kernelspec": {
      "name": "python3",
      "display_name": "Python 3"
    }
  },
  "cells": [
    {
      "cell_type": "markdown",
      "source": [
        "# **Hand-written digits classification using Feed Forward Neural Networks**\n",
        "\n",
        "---\n",
        "\n",
        "Hand-written digits classification is a classic classification task that can performed using a multitude of methods. In this implementation, I performed the classification task by employing a ***Neural Network***. \n",
        "\n",
        "All the functions are coded from scratch, using only python standard libraries"
      ],
      "metadata": {
        "id": "YXlkaHPocBEy"
      }
    },
    {
      "cell_type": "code",
      "metadata": {
        "id": "Xp_JYkRE9BQz"
      },
      "source": [
        "import pandas as pd\n",
        "import numpy as np\n",
        "from sklearn.model_selection import train_test_split\n",
        "import matplotlib.pyplot as plt"
      ],
      "execution_count": 65,
      "outputs": []
    },
    {
      "cell_type": "markdown",
      "source": [
        "# **Functions required for Neural Networks**\n",
        "\n",
        "---"
      ],
      "metadata": {
        "id": "xukRgRoFcHFO"
      }
    },
    {
      "cell_type": "markdown",
      "source": [
        "## **Initializing parameters for all layers**\n",
        "\n",
        "---\n",
        "\n",
        "     dim( W[l] ) = ( n[l], n[l-1] )\n",
        "      dim( b[l] ) = ( 1, n[l] )\n",
        "      where, \n",
        "        l = current layer\n",
        "        W[l] = weights of current layer\n",
        "        b[l] = bias for the current layer\n",
        "        n[l] = number of nodes in current layer"
      ],
      "metadata": {
        "id": "5fOfugHXcIF7"
      }
    },
    {
      "cell_type": "code",
      "metadata": {
        "id": "OdLYjfn19Jv9"
      },
      "source": [
        "def initialize_parameters(layer_dims):\n",
        "    parameters = {}\n",
        "    L = len(layer_dims)\n",
        "  \n",
        "    for i in range(1, L):\n",
        "        parameters['W' + str(i)] = np.random.randn(layer_dims[i], layer_dims[i-1])*0.01\n",
        "        parameters['b' + str(i)] = np.zeros((1, layer_dims[i])) + 0.01\n",
        "\n",
        "    return parameters"
      ],
      "execution_count": 66,
      "outputs": []
    },
    {
      "cell_type": "markdown",
      "source": [
        "## **Forward propagation**\n",
        "\n",
        "---\n",
        "\n",
        "*   Activation function: sigmoid\n",
        "\n",
        "Forward propagation equations:\n",
        "        \n",
        "        Z[l] = W[l].X + b[l] \n",
        "        A[l] = g( Z[l] )\n",
        "        Where,\n",
        "            Z = weighted sum of input and bias\n",
        "            A = activations of particular layer\n",
        "            l = layer"
      ],
      "metadata": {
        "id": "MTmgi3FScSMe"
      }
    },
    {
      "cell_type": "markdown",
      "source": [
        "## **Backward propagation**\n",
        "\n",
        "---\n",
        "\n",
        "Backward propagation equations: \n",
        "\n",
        "          Err(j)(output layer) = O(j)(1 - O(j))(T(j) - O(j))\n",
        "          Err(j)(hidden layer) = O(j)(1 - O(j))(SUM(Err(k)W(j,k)\n",
        "          del(W(i,j)) = (l)Err(j)O(i)\n",
        "          del(b(j)) = (l)Err(j)\n",
        "          Where,\n",
        "                O: Output of a node\n",
        "                W: weight\n",
        "                b: bias\n",
        "                i, j, k: nodes\n"
      ],
      "metadata": {
        "id": "KNu5r7dLcTF4"
      }
    },
    {
      "cell_type": "markdown",
      "source": [
        "## **Implementation**\n",
        "\n",
        "---"
      ],
      "metadata": {
        "id": "-A4PjzidcWK6"
      }
    },
    {
      "cell_type": "code",
      "metadata": {
        "id": "qXcRGRtX9Mro"
      },
      "source": [
        "def sigmoid(X):\n",
        "    return 1/(1 + np.exp(-1*X))"
      ],
      "execution_count": 67,
      "outputs": []
    },
    {
      "cell_type": "code",
      "metadata": {
        "id": "pMqcmART9Sa2"
      },
      "source": [
        "def forward_step(A_prev, W, b):\n",
        "    return sigmoid(np.dot(A_prev, W.T) + b)"
      ],
      "execution_count": 68,
      "outputs": []
    },
    {
      "cell_type": "code",
      "metadata": {
        "id": "x8mIKaKs-Izu"
      },
      "source": [
        "def computation_n(X, y, parameters, eta, num_iters):\n",
        "    hidden_output = []\n",
        "    hidden_error = []\n",
        "    m = X.shape[0]\n",
        "    L = (len(parameters)//2) + 1      # number of layers\n",
        "    \n",
        "    # iterating for given number of iterations\n",
        "    for itr in range(num_iters):\n",
        "        # for each training example\n",
        "        for i in range(m):\n",
        "            # forward propagation for n layers\n",
        "            hidden_output.append(X[i])\n",
        "            A_prev = X[i]\n",
        "            for l in range(1, L):\n",
        "                A_prev = forward_step(A_prev, parameters['W' + str(l)], parameters['b' + str(l)])\n",
        "                hidden_output.append(A_prev)\n",
        "            \n",
        "            # propagating the error backwards\n",
        "            # print('hidden_output[-1].shape: {}; y[i].shape: {}'.format(hidden_output[-1].shape, y[i].shape))\n",
        "            dOutput = hidden_output[-1]*(1 - hidden_output[-1])*(y[i] - hidden_output[-1])\n",
        "            hidden_error.append(dOutput)\n",
        "            k = 0\n",
        "            for l in reversed(range(1, L-1)):\n",
        "                error = hidden_output[l]*(1 - hidden_output[l])*np.dot(hidden_error[k], parameters['W' + str(l+1)])\n",
        "                hidden_error.append(error)\n",
        "                k += 1\n",
        "            \n",
        "            # parameter changes\n",
        "            k = 0\n",
        "            for l in reversed(range(1, L)):\n",
        "                parameters['W' + str(l)] += eta*hidden_error[k].reshape(-1, 1)*hidden_output[l-1]\n",
        "                parameters['b' + str(l)] += eta*hidden_error[k]\n",
        "                k += 1\n",
        "            \n",
        "            hidden_output.clear()\n",
        "            hidden_error.clear()\n",
        "    \n",
        "    return parameters"
      ],
      "execution_count": 69,
      "outputs": []
    },
    {
      "cell_type": "markdown",
      "source": [
        "## **Training and testing model**\n",
        "\n",
        "---\n"
      ],
      "metadata": {
        "id": "K13I4GvQccyX"
      }
    },
    {
      "cell_type": "code",
      "metadata": {
        "id": "j_fSvhJfF3F7"
      },
      "source": [
        "def train(X, y, parameters, alpha, num_iters, batch=True):\n",
        "    parameters = computation_n(X, y, parameters, alpha, num_iters)\n",
        "    return parameters"
      ],
      "execution_count": 70,
      "outputs": []
    },
    {
      "cell_type": "code",
      "metadata": {
        "id": "J3GAQPOwF8Ke"
      },
      "source": [
        "def test(X, y_test, parameters):\n",
        "    y_pred = []\n",
        "    L = (len(parameters)//2) + 1\n",
        "    counter = 0\n",
        "\n",
        "    for i in range(X.shape[0]):\n",
        "        A_prev = X[i]\n",
        "        for l in range(1, L):\n",
        "            A_prev = forward_step(A_prev, parameters['W' + str(l)], parameters['b' + str(l)])\n",
        "        y_pred.append(A_prev)\n",
        "\n",
        "\n",
        "    y_pred = np.asarray(y_pred)\n",
        "    y_pred[y_pred < 0.5] = 0\n",
        "    y_pred[y_pred >= 0.5] = 1\n",
        "\n",
        "    accuracy = np.mean(np.asarray(y_pred) == y_test)\n",
        "    print(\"Accuracy : {} %\".format(accuracy*100))"
      ],
      "execution_count": 71,
      "outputs": []
    },
    {
      "cell_type": "markdown",
      "source": [
        "# **Hand-written digits: Loading + Formatting + Training + Testing**"
      ],
      "metadata": {
        "id": "lR65E_e2cmAB"
      }
    },
    {
      "cell_type": "code",
      "source": [
        "def modify_label(y, n):\n",
        "  new_y = []\n",
        "  for i in range(y.shape[0]):\n",
        "    row = np.zeros(n)\n",
        "    print(type(y[i, 0]))\n",
        "    break\n",
        "    row[y[i, 0]] = 1.\n",
        "    new_y.append(row)\n",
        "\n",
        "  return np.asarray(new_y)"
      ],
      "metadata": {
        "id": "kskDTCnkdMbI"
      },
      "execution_count": 72,
      "outputs": []
    },
    {
      "cell_type": "code",
      "metadata": {
        "colab": {
          "base_uri": "https://localhost:8080/",
          "height": 499
        },
        "id": "6UMN1xoFHV6V",
        "outputId": "e0f46384-de1d-4301-fc00-b42b5f4d473e"
      },
      "source": [
        "## LOADING TRAINING DATA \n",
        "data = pd.read_csv('/content/drive/MyDrive/mnist_train.csv')\n",
        "y_train = np.array(data['label'])\n",
        "x_train = np.array(data.drop(['label'], axis = 1))\n",
        "\n",
        "## LOADING TESTING DATA\n",
        "data = pd.read_csv('/content/drive/MyDrive/mnist_test.csv')\n",
        "y_test = np.array(data['label'])\n",
        "x_test = np.array(data.drop(['label'], axis = 1))\n",
        "\n",
        "## PRINTING IMAGES FROM THE MNIST DATASET\n",
        "print(\"Sample of images from the MNIST Dataset : \")\n",
        "plt.figure(figsize=(8, 8))\n",
        "for i in range(16):\n",
        "    plt.subplot(4, 4, i+1)\n",
        "    plt.axis('off')\n",
        "    r = np.random.randint(x_train.shape[0])   ## PICK A RANDON IMAGE TO SHOW\n",
        "    plt.title('True Label: '+ str(y_train[r])) ## PRINT LABEL\n",
        "    plt.imshow(x_train[r].reshape(28, 28))     ## PRINT IMAGE\n",
        "plt.show()"
      ],
      "execution_count": 73,
      "outputs": [
        {
          "output_type": "stream",
          "name": "stdout",
          "text": [
            "Sample of images from the MNIST Dataset : \n"
          ]
        },
        {
          "output_type": "display_data",
          "data": {
            "image/png": "[encoded data removed]",
            "text/plain": [
              "<Figure size 576x576 with 16 Axes>"
            ]
          },
          "metadata": {
            "needs_background": "light"
          }
        }
      ]
    },
    {
      "cell_type": "code",
      "metadata": {
        "colab": {
          "base_uri": "https://localhost:8080/"
        },
        "id": "GAzlgSO3Ncw7",
        "outputId": "85534c56-0b14-4c71-831c-118efc103b2c"
      },
      "source": [
        "## NORMALIZING THE PIXEL VALUES FOR TRAINING DATA\n",
        "x_train = x_train / 255\n",
        "\n",
        "## CONVERTING TARGET VALUE TO ONE-HOT ENCODED FORM\n",
        "x_train = np.array(x_train)\n",
        "b = np.zeros((y_train.size, y_train.max()+1))\n",
        "b[np.arange(y_train.size), y_train] = 1\n",
        "y_train = np.array(b)\n",
        "y_train = np.expand_dims(y_train, axis=1)\n",
        "\n",
        "print(\"y_train shape (after one-hot encoding) : {}\".format(y_train.shape))"
      ],
      "execution_count": 74,
      "outputs": [
        {
          "output_type": "stream",
          "name": "stdout",
          "text": [
            "y_train shape (after one-hot encoding) : (60000, 1, 10)\n"
          ]
        }
      ]
    },
    {
      "cell_type": "code",
      "metadata": {
        "colab": {
          "base_uri": "https://localhost:8080/"
        },
        "id": "1Auq4NjGNdeB",
        "outputId": "7f14dc29-0d6b-4046-8a6a-d4c768f51d16"
      },
      "source": [
        "## NORMALIZING THE PIXEL VALUES FOR TESTING DATA\n",
        "x_test = x_test / 255\n",
        "\n",
        "## CONVERTING TARGET VALUE TO ONE-HOT ENCODED FORM\n",
        "x_test = np.array(x_test)\n",
        "b1 = np.zeros((y_test.size, y_test.max()+1))\n",
        "b1[np.arange(y_test.size), y_test] = 1\n",
        "y_test = np.array(b1)\n",
        "y_test = np.expand_dims(y_test, axis=1)\n",
        "\n",
        "print(\"y_test shape (after one-hot encoding) : {}\".format(y_test.shape))"
      ],
      "execution_count": 75,
      "outputs": [
        {
          "output_type": "stream",
          "name": "stdout",
          "text": [
            "y_test shape (after one-hot encoding) : (10000, 1, 10)\n"
          ]
        }
      ]
    },
    {
      "cell_type": "code",
      "metadata": {
        "colab": {
          "base_uri": "https://localhost:8080/"
        },
        "id": "FJ_HwY08HaqN",
        "outputId": "0cdc09a0-c4a5-41b3-9c9c-d3bcb0eebe38"
      },
      "source": [
        "parameters = initialize_parameters([784, 50, 50, 10])\n",
        "print(\"Length of parameters dictionary : {}\".format(len(parameters)))"
      ],
      "execution_count": 76,
      "outputs": [
        {
          "output_type": "stream",
          "name": "stdout",
          "text": [
            "Length of parameters dictionary : 6\n"
          ]
        }
      ]
    },
    {
      "cell_type": "code",
      "metadata": {
        "colab": {
          "base_uri": "https://localhost:8080/"
        },
        "id": "HqF6jkZoHeH4",
        "outputId": "cae186ea-7a6f-4dcb-a3d5-2c934a274868"
      },
      "source": [
        "print(\"Training model...\")\n",
        "parameters = train(x_train, y_train, parameters, 0.01, 20)"
      ],
      "execution_count": 77,
      "outputs": [
        {
          "output_type": "stream",
          "name": "stdout",
          "text": [
            "Training model...\n"
          ]
        }
      ]
    },
    {
      "cell_type": "code",
      "metadata": {
        "id": "Prdgg5fxHgYY",
        "colab": {
          "base_uri": "https://localhost:8080/"
        },
        "outputId": "31db33c8-4f8e-46b0-9ce5-7b1207ac37b9"
      },
      "source": [
        "print(\"Testing model...\")\n",
        "print('Training error : ', end='')\n",
        "test(x_train, y_train, parameters)\n",
        "print('\\nTesting error : ', end='')\n",
        "test(x_test, y_test, parameters)"
      ],
      "execution_count": 78,
      "outputs": [
        {
          "output_type": "stream",
          "name": "stdout",
          "text": [
            "Testing model...\n",
            "Training error : Accuracy : 98.791 %\n",
            "\n",
            "Testing error : Accuracy : 98.772 %\n"
          ]
        }
      ]
    }
  ]
}